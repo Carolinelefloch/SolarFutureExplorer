{
 "cells": [
  {
   "cell_type": "code",
   "execution_count": null,
   "metadata": {
    "collapsed": true
   },
   "outputs": [],
   "source": [
    "import sklearn\n",
    "from sklearn import cluster\n",
    "import folium\n",
    "\n",
    "import pandas as pd\n",
    "import numpy as np\n",
    "import random\n",
    "from threading import Thread\n",
    "\n",
    "import matplotlib.pyplot as plt\n",
    "#import matplotlib.colors as mpl_colors\n",
    "\n",
    "from IPython.display import clear_output, display, HTML\n",
    "import sys  # This is necessary for printing updates within a code block, \n",
    "            #   via sys.stdout.flush()\n",
    "import time # Use time.sleep(secs) to sleep a process if needed\n",
    "%matplotlib inline\n",
    "\n",
    "print(\"Current environment directory:\" + sys.prefix)\n",
    "print(\"System version: \"+sys.version)"
   ]
  },
  {
   "cell_type": "code",
   "execution_count": null,
   "metadata": {
    "collapsed": true
   },
   "outputs": [],
   "source": []
  }
 ],
 "metadata": {
  "kernelspec": {
   "display_name": "Python 2",
   "language": "python",
   "name": "python2"
  }
 },
 "nbformat": 4,
 "nbformat_minor": 0
}
