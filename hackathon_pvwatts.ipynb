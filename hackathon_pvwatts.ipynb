{
 "cells": [
  {
   "cell_type": "code",
   "execution_count": 35,
   "metadata": {
    "collapsed": false
   },
   "outputs": [
    {
     "name": "stdout",
     "output_type": "stream",
     "text": [
      "[0.0, 0.0, 0.0, 0.0, 0.0, 0.059986879339463312, 0.46174666166260081, 1.7148704372302497, 3.7321598799024205, 5.4965773315819115, 7.0686944942765999, 7.9424557553011832, 8.2006318859073009, 7.7849156089322564, 6.6521060011259152, 4.871982593357103, 2.6941452204916492, 0.92032259711015196, 0.13934912366297617, 0.0063914955901670104, 0.0, 0.0, 0.0, 0.0]\n"
     ]
    }
   ],
   "source": [
    "import urllib2\n",
    "import json\n",
    "from numpy import mean\n",
    "\n",
    "prop_address = '18 CASTRO ST, SAN FRANCISCO, CA'\n",
    "\n",
    "#hourly prod data\n",
    "def nrel(prop_address):\n",
    "    address_input = prop_address\n",
    "    address_2 = address_input.replace(\" \", \"+\")\n",
    "    address_3 = address_2.replace(\",\", \"\")\n",
    "    address = address_3+\"+\"\n",
    "    nrel_api_key = 'd9wATXqo7bpH2wRTofNnzNykZl5Vt4DzldFR7H5d'\n",
    "    timeframe = \"hourly\"\n",
    "    url = 'http://developer.nrel.gov/api/pvwatts/v5.json?api_key='+nrel_api_key+'&address='+address+'&system_capacity=5&azimuth=180&tilt=20&array_type=1&module_type=0&losses=14&timeframe='+timeframe\n",
    "    json_obj = urllib2.urlopen(url)\n",
    "    json_data = json.load(json_obj)\n",
    "    outputs_list = json_data['outputs']\n",
    "    ac_production_list = outputs_list['ac']\n",
    "    return ac_production_list\n",
    "\n",
    "\n",
    "#avg prod for each hour over the course of the year\n",
    "def avg_hrly(full_list):\n",
    "    avg_hr_list = []\n",
    "    for each_hr in range(0,24):\n",
    "        hr_avg = mean(full_list[each_hr::24])/365\n",
    "        avg_hr_list.append(hr_avg)\n",
    "    return avg_hr_list\n",
    "        \n",
    "mm = nrel(prop_address)\n",
    "print avg_hrly(mm)\n"
   ]
  },
  {
   "cell_type": "code",
   "execution_count": null,
   "metadata": {
    "collapsed": true
   },
   "outputs": [],
   "source": []
  }
 ],
 "metadata": {
  "kernelspec": {
   "display_name": "Python 2",
   "language": "python",
   "name": "python2"
  },
  "language_info": {
   "codemirror_mode": {
    "name": "ipython",
    "version": 2
   },
   "file_extension": ".py",
   "mimetype": "text/x-python",
   "name": "python",
   "nbconvert_exporter": "python",
   "pygments_lexer": "ipython2",
   "version": "2.7.9"
  }
 },
 "nbformat": 4,
 "nbformat_minor": 0
}
