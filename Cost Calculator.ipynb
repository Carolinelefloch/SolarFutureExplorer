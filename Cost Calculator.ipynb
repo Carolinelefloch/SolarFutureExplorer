{
 "cells": [
  {
   "cell_type": "code",
   "execution_count": 1,
   "metadata": {
    "collapsed": false
   },
   "outputs": [
    {
     "name": "stdout",
     "output_type": "stream",
     "text": [
      "Current environment directory:/Users/emunsing/anaconda\n",
      "System version: 2.7.10 |Anaconda 2.1.0 (x86_64)| (default, Oct 19 2015, 18:31:17) \n",
      "[GCC 4.2.1 (Apple Inc. build 5577)]\n"
     ]
    },
    {
     "name": "stderr",
     "output_type": "stream",
     "text": [
      "Vendor:  Continuum Analytics, Inc.\n",
      "Package: mkl\n",
      "Message: trial mode expires in 28 days\n"
     ]
    }
   ],
   "source": [
    "import sklearn\n",
    "from sklearn import cluster\n",
    "import folium\n",
    "\n",
    "import pandas as pd\n",
    "import numpy as np\n",
    "import random\n",
    "from threading import Thread\n",
    "\n",
    "import matplotlib.pyplot as plt\n",
    "#import matplotlib.colors as mpl_colors\n",
    "\n",
    "from IPython.display import clear_output, display, HTML\n",
    "import sys  # This is necessary for printing updates within a code block, \n",
    "            #   via sys.stdout.flush()\n",
    "import time # Use time.sleep(secs) to sleep a process if needed\n",
    "%matplotlib inline\n",
    "\n",
    "print(\"Current environment directory:\" + sys.prefix)\n",
    "print(\"System version: \"+sys.version)"
   ]
  },
  {
   "cell_type": "code",
   "execution_count": 8,
   "metadata": {
    "collapsed": false
   },
   "outputs": [
    {
     "data": {
      "text/html": [
       "<div style=\"max-height:1000px;max-width:1500px;overflow:auto;\">\n",
       "<table border=\"1\" class=\"dataframe\">\n",
       "  <thead>\n",
       "    <tr style=\"text-align: right;\">\n",
       "      <th></th>\n",
       "      <th>hour</th>\n",
       "      <th>loadProfile</th>\n",
       "      <th>genProfile</th>\n",
       "      <th>purchaseRate</th>\n",
       "      <th>feedInRate</th>\n",
       "    </tr>\n",
       "  </thead>\n",
       "  <tbody>\n",
       "    <tr>\n",
       "      <th>0</th>\n",
       "      <td>0</td>\n",
       "      <td>0.5</td>\n",
       "      <td>0</td>\n",
       "      <td>0.12</td>\n",
       "      <td>0.02</td>\n",
       "    </tr>\n",
       "    <tr>\n",
       "      <th>1</th>\n",
       "      <td>1</td>\n",
       "      <td>0.5</td>\n",
       "      <td>0</td>\n",
       "      <td>0.12</td>\n",
       "      <td>0.02</td>\n",
       "    </tr>\n",
       "    <tr>\n",
       "      <th>2</th>\n",
       "      <td>2</td>\n",
       "      <td>0.5</td>\n",
       "      <td>0</td>\n",
       "      <td>0.12</td>\n",
       "      <td>0.02</td>\n",
       "    </tr>\n",
       "    <tr>\n",
       "      <th>3</th>\n",
       "      <td>3</td>\n",
       "      <td>0.5</td>\n",
       "      <td>0</td>\n",
       "      <td>0.12</td>\n",
       "      <td>0.02</td>\n",
       "    </tr>\n",
       "    <tr>\n",
       "      <th>4</th>\n",
       "      <td>4</td>\n",
       "      <td>0.5</td>\n",
       "      <td>0</td>\n",
       "      <td>0.12</td>\n",
       "      <td>0.02</td>\n",
       "    </tr>\n",
       "  </tbody>\n",
       "</table>\n",
       "</div>"
      ],
      "text/plain": [
       "   hour  loadProfile  genProfile  purchaseRate  feedInRate\n",
       "0     0          0.5           0          0.12        0.02\n",
       "1     1          0.5           0          0.12        0.02\n",
       "2     2          0.5           0          0.12        0.02\n",
       "3     3          0.5           0          0.12        0.02\n",
       "4     4          0.5           0          0.12        0.02"
      ]
     },
     "execution_count": 8,
     "metadata": {},
     "output_type": "execute_result"
    }
   ],
   "source": [
    "# In the future, handle household data separately\n",
    "householdData = pd.read_csv('Dummy_SolarData.csv')\n",
    "\n",
    "# Utility-level parameters; should be fixed for the whole region\n",
    "purchaseRate = householdData['purchaseRate']  # This will ultimately be set by \n",
    "feedInRate = householdData['feedInRate']"
   ]
  },
  {
   "cell_type": "code",
   "execution_count": 34,
   "metadata": {
    "collapsed": false
   },
   "outputs": [
    {
     "data": {
      "text/plain": [
       "'1234 Anystreet'"
      ]
     },
     "execution_count": 34,
     "metadata": {},
     "output_type": "execute_result"
    }
   ],
   "source": []
  },
  {
   "cell_type": "code",
   "execution_count": 30,
   "metadata": {
    "collapsed": false
   },
   "outputs": [
    {
     "name": "stdout",
     "output_type": "stream",
     "text": [
      "Baseline Bill: $3.06\n",
      "Bill with Solar: $1.65\n",
      "Savings: $1.41\n"
     ]
    }
   ],
   "source": [
    "\n",
    "# Load list of households and associated usage profiles.\n",
    "# For each household\n",
    "#  Calculate its bill\n",
    "# Pass block of household data to mapping function\n",
    "\n",
    "# Assume household data is stored as rows in a Pandas dataframe\n",
    "# Assume we have separate dataframes of household Load and Generation profiles\n",
    "\n",
    "householdData = {}\n",
    "\n",
    "# Household-level data\n",
    "loadProfile = householdData['loadProfile']\n",
    "genProfile = householdData['genProfile']\n",
    "\n",
    "baselineBill = sum(loadProfile * purchaseRate)\n",
    "print(\"Baseline Bill: $%.2f\" %(baselineBill))\n",
    "\n",
    "solarBill = calculateDailyProfits(loadProfile, genProfile, purchaseRate, feedInRate, dT=1, battery=0 isNEM=False)\n",
    "print(\"Bill with Solar: $%.2f\" %(solarBill) )\n",
    "\n",
    "solarSavings = baselineBill - solarBill\n",
    "print(\"Savings: $%.2f\" %(solarSavings))\n",
    "\n"
   ]
  },
  {
   "cell_type": "code",
   "execution_count": 24,
   "metadata": {
    "collapsed": false
   },
   "outputs": [],
   "source": [
    "def calculateDailyProfits(loadProfile, genProfile, purchaseRate, feedInRate, dT=1, isNEM=False):\n",
    "    # Assume that LoadProfile, solarGen, and utilityRate are nparrays with the same length.\n",
    "    #   Initially assume that these are 1-hour blocks, 24 total\n",
    "    # LoadProfile: Array of 24 hourly blocks; kW\n",
    "    # genProfile: Array of 24 hourly blocks; kW\n",
    "    # purchaseRate: Array of 24 hourly blocks for retail utility purchase. $/kWh\n",
    "    # feedInRate: Array of 24 hourly blocks for payments of extra power. $/kWh\n",
    "    # dT : time step for each block. dT=1 : 1-hour blocks.\n",
    "    # isNEM : Boolean indicator of whether energy is metered in net for the billing period (TRUE) or instantaneously (FALSE)\n",
    "    #         if TRUE, payment will only be calculated based on the first entry of purchaseRate and feedInRate\n",
    "    \n",
    "    netLoad = loadProfile - genProfile  # Positive values: Importing energy. Negative: Exporting energy\n",
    "    \n",
    "    if isNEM:\n",
    "        # Need to calculate net energy consumption over the study period\n",
    "        totalEnergy = sum(netLoad) * dT\n",
    "        if totalEnergy >= 0:\n",
    "            bill = totalEnergy * purchaseRate[0]\n",
    "        else:\n",
    "            bill = totalEnergy * feedInRate[0]\n",
    "    else:\n",
    "        expenses = sum( netLoad[netLoad >=0] * purchaseRate[netLoad >= 0])\n",
    "        income = sum( netLoad[netLoad < 0] * feedInRate[netLoad < 0])\n",
    "        bill = expenses + income\n",
    "        \n",
    "    return bill"
   ]
  }
 ],
 "metadata": {
  "kernelspec": {
   "display_name": "Python 2",
   "language": "python",
   "name": "python2"
  },
  "language_info": {
   "codemirror_mode": {
    "name": "ipython",
    "version": 2
   },
   "file_extension": ".py",
   "mimetype": "text/x-python",
   "name": "python",
   "nbconvert_exporter": "python",
   "pygments_lexer": "ipython2",
   "version": "2.7.10"
  }
 },
 "nbformat": 4,
 "nbformat_minor": 0
}
